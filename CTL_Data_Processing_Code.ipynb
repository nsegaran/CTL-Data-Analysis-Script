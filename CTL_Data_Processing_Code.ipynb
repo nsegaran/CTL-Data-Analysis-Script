{
  "nbformat": 4,
  "nbformat_minor": 0,
  "metadata": {
    "colab": {
      "provenance": []
    },
    "kernelspec": {
      "name": "python3",
      "display_name": "Python 3"
    },
    "language_info": {
      "name": "python"
    }
  },
  "cells": [
    {
      "cell_type": "markdown",
      "source": [
        "File: CTL Data Processing Code\n",
        "\n",
        "Name: Nicole Segaran\n",
        "\n",
        "This program takes in any subset of modified* CTL event registration data  saved to My Drive > NS CTL Data Visualization > Raw Data of user's Google Drive and can tally the count frequency of the role, majors, years, or schools of unique attendees depending on user specification of parameters. CSV of tally is exported to My Drive > NS CTL Data Visualization > New Processed Data. Folders must be set up as such before running code.\n",
        "\n",
        "2020 - 2021 Modifications - \n",
        "*Stanford School column added to CHEM (Fall+Winter) and Math VSH (Fall) files; Degree Program: column combined and deleted extra in VSH (Fall + Winter) files; Stanford School column populated for Undergraduate Students in VSH (Fall + Winter + Spring) and Workshops (Winter + Spring) since there was no data; many files from each category had columns added or taken away to make sure they aligned with the other sheets in their category; unmodified data from CTL event registration over 2020 stored at https://github.com/a7c/ctl-data-visualization.git\n",
        "\n",
        "2021 - 2022 Modifications - \n",
        "Stanford School column populated for Undergraduate Students in VSH (Fall + Winter + Spring) and In-Person Study Halls (Spring)\n",
        "Degree Program columns combined for all grad-inclusive events\n",
        "Winter VSH and Workshops had to unmerge some cells\n",
        "Spring Workshops some didn't have Undergrad Major column\n",
        "\n",
      ],
      "metadata": {
        "id": "l5C9clT8t3VL"
      }
    },
    {
      "cell_type": "code",
      "execution_count": 1,
      "metadata": {
        "id": "iPuNkkXWn0OZ",
        "colab": {
          "base_uri": "https://localhost:8080/",
          "height": 523
        },
        "outputId": "7242d976-f50d-4887-cfb1-d66a5c1abf13"
      },
      "outputs": [
        {
          "output_type": "stream",
          "name": "stdout",
          "text": [
            "Mounted at /content/drive\n",
            "Workshops data not found in Fall 2021-2022\n"
          ]
        },
        {
          "output_type": "display_data",
          "data": {
            "text/plain": [
              "<Figure size 432x288 with 1 Axes>"
            ],
            "image/png": "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\n"
          },
          "metadata": {
            "needs_background": "light"
          }
        }
      ],
      "source": [
        "import pandas as pd\n",
        "import glob\n",
        "import matplotlib.pyplot as plt\n",
        "\n",
        "################################################################################\n",
        "##########################SET VARIABLES HERE####################################\n",
        "\n",
        "YEARS = ['2020-2021', '2021-2022']      ## Options include: '2020-2021' OR '2021-2022'\n",
        "QUARTERS = ['Fall', 'Winter', 'Spring']                     ## Options include: 'Fall' OR 'Winter' OR 'Spring' OR 'Summer'\n",
        "EVENTS = ['Workshops']   ## Options include: 'Chem Virtual Study Halls' OR 'ENG Grad Studios' OR 'Math Virtual Study Halls' OR 'Virtual Study Halls' OR 'Workshops' OR 'Grad Studios' OR 'Study Halls' OR 'Workshops' OR 'Chem 31B Study Halls' OR 'Studios' OR 'In-Person Study Halls'\n",
        "TARGET_METRIC = 'Stanford School'      ## Options include: 'Year at Stanford' OR 'Major/Degree' OR 'Stanford School' OR 'Role at Stanford'\n",
        "TYPE_OF_DISPLAY = 'All Visits'       ## Options include: 'Unique Visits' OR 'All Visits'\n",
        "ATTENDEE_TYPE = 'All Students'          ## Options include: 'Graduate Students' OR 'Undergraduate Students' OR 'All Students'\n",
        "\n",
        "################################################################################\n",
        "\n",
        "\n",
        "################################################################################\n",
        "#####MOUNTS GOOGLE DRIVE; UNCOMMENT NEXT TWO LINES AND RUN ONCE PER SESSION#####\n",
        "\n",
        "from google.colab import drive\n",
        "drive.mount('/content/drive')\n",
        "################################################################################\n",
        "\n",
        "#translate TARGET_METRIC to COLUMN_OF_INTEREST\n",
        "COLUMN_OF_INTEREST = TARGET_METRIC\n",
        "\n",
        "if COLUMN_OF_INTEREST == 'Major/Degree':\n",
        "  if ATTENDEE_TYPE == 'Undergraduate Students':\n",
        "    COLUMN_OF_INTEREST = 'Undergraduate Major'\n",
        "  if ATTENDEE_TYPE == 'Graduate Students':\n",
        "    COLUMN_OF_INTEREST = 'Degree Program:' \n",
        "\n",
        "# creates empty data frame used to merge all target data into\n",
        "merged_target_df = pd.DataFrame()\n",
        "\n",
        "#loops through specified search parameters\n",
        "for YEAR in YEARS:\n",
        "  for QUARTER in QUARTERS: \n",
        "    for EVENT in EVENTS:\n",
        "      #sets one search path of interest\n",
        "      current_path =  '/content/drive/My Drive/NS CTL Data Visualization/Raw Data/' + YEAR + '/' + QUARTER + '/' + EVENT\n",
        "      # narrow down files to just excels\n",
        "      filenames = glob.glob(current_path + '/*.xlsx')\n",
        "      if filenames == []:\n",
        "        # produces warning when data of interest is not found within a search parameter\n",
        "        print(EVENT + \" data not found in \" + QUARTER + \" \" +YEAR)\n",
        "      else: \n",
        "        for file in filenames: \n",
        "        # iterates through excel files and append relevant info to merged_target_df\n",
        "          next_all_df = pd.read_excel(file, sheet_name= 0)\n",
        "          next_all_df['Full Name'] = next_all_df['First Name'] + next_all_df['Last Name']\n",
        "\n",
        "          if COLUMN_OF_INTEREST == 'Role at Stanford':\n",
        "            if 'Which degree(s) are you pursuing?' in next_all_df: \n",
        "              COLUMN_OF_INTEREST = 'Which degree(s) are you pursuing?'\n",
        "            elif 'Role at Stanford' in next_all_df: \n",
        "              COLUMN_OF_INTEREST = 'Role at Stanford'\n",
        "            else:\n",
        "              break\n",
        "\n",
        "\n",
        "          # handle exception for Major/Degree metric, which analyzes two different columns for Undergrads and Grads, if specified for All Students\n",
        "          if TARGET_METRIC == 'Major/Degree' and ATTENDEE_TYPE == 'All Students':\n",
        "            if 'Degree Program:' in next_all_df and 'Undergraduate Major' in next_all_df:\n",
        "              COLUMN_OF_INTEREST = 'Major/Degree'\n",
        "              next_all_df['Major/Degree'] = next_all_df['Undergraduate Major'].fillna('').astype(str) + next_all_df['Degree Program:'].fillna('').astype(str)\n",
        "            elif 'Undergraduate Major' in next_all_df:\n",
        "              COLUMN_OF_INTEREST = 'Undergraduate Major'\n",
        "            else:\n",
        "              COLUMN_OF_INTEREST = 'Degree Program:'\n",
        "              \n",
        "          next_target_df = next_all_df[['Full Name', 'Ticket Type', COLUMN_OF_INTEREST]].copy()\n",
        "          merged_target_df = merged_target_df.append(next_target_df, ignore_index = True)\n",
        "\n",
        "if merged_target_df.empty: \n",
        "  # produces warning when data of interest is not found within ANY search parameter\n",
        "  print('no data found within search parameters')\n",
        "else: \n",
        "  if TYPE_OF_DISPLAY == 'Unique Visits':\n",
        "    # filters out duplicate attendee data if specified\n",
        "    merged_target_df = merged_target_df.drop_duplicates(subset=['Full Name'])\n",
        "\n",
        "  if ATTENDEE_TYPE != 'All Students':\n",
        "    # can be used to further filter out data (i.e. by Undergrad vs Grad, etc.), uncomment to use \n",
        "    merged_target_df = merged_target_df[merged_target_df[\"Ticket Type\"] == ATTENDEE_TYPE]\n",
        "\n",
        "  # separate merged column of interest into col_df\n",
        "  col_df = merged_target_df[COLUMN_OF_INTEREST]\n",
        "\n",
        "  if TARGET_METRIC == 'Year at Stanford':\n",
        "    #used when searching Year at Stanford to  strip extra spaces\n",
        "    col_df = col_df.fillna('No Info').astype(str)\n",
        "    col_df = col_df.replace(' ', '')\n",
        "    col_df = col_df.replace('1.0', '1')\n",
        "    col_df = col_df.replace('2.0', '2')\n",
        "    col_df = col_df.replace('3.0', '3')\n",
        "    col_df = col_df.replace('4.0', '4')\n",
        "    col_df = col_df.replace('5.0', '5+')\n",
        "  count = col_df.value_counts() ##if count zero\n",
        "  #turn count Series to df and change column names\n",
        "  count_df = pd.DataFrame({TARGET_METRIC:count.index, '# of Students':count.values})\n",
        "\n",
        "  #saves csv to your personal drive in a folder labeled \"New Processed Data\", all original processed files in All Processed Data, uncomment to use for debugging\n",
        "  #count_df.to_csv('/content/drive/My Drive/NS CTL Data Visualization/Winter and Spring Quarter 2020-2021 ENG Grad Studios-year.csv', index=False)\n",
        "  \n",
        "  if count.empty:\n",
        "    #produces warning when data of interest is not found with ANY specified parameters\n",
        "    print('no data found within specified parameters')\n",
        "  else: \n",
        "    count_df.plot(x = TARGET_METRIC, y='# of Students', kind = 'bar')\n",
        "\n"
      ]
    },
    {
      "cell_type": "code",
      "source": [],
      "metadata": {
        "id": "dpFMeTu9zS3M"
      },
      "execution_count": null,
      "outputs": []
    }
  ]
}
